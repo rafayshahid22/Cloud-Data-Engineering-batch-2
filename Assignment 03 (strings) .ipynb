{
 "cells": [
  {
   "cell_type": "markdown",
   "metadata": {},
   "source": [
    "Strings Assignments\n"
   ]
  },
  {
   "cell_type": "markdown",
   "metadata": {},
   "source": [
    "1. Write a program that accepts a string from user. Your program should count and display number of\n",
    "vowels in that string. \n"
   ]
  },
  {
   "cell_type": "code",
   "execution_count": 3,
   "metadata": {},
   "outputs": [
    {
     "name": "stdout",
     "output_type": "stream",
     "text": [
      "Number of vowels in the string: 7\n"
     ]
    }
   ],
   "source": [
    "#Type your code here\n",
    "text = str(input(\"Enter a string:\"))\n",
    "vowels = 'aeiouAEIOU'\n",
    "count = 0\n",
    "\n",
    "for char in text:\n",
    "    if char in vowels:\n",
    "        count +=1 \n",
    "\n",
    "print(\"Number of vowels in the string:\", count)"
   ]
  },
  {
   "cell_type": "markdown",
   "metadata": {},
   "source": [
    "\n",
    "2. Write a program that reads a string from keyboard and display:\n",
    "* The number of uppercase letters in the string\n",
    "* The number of lowercase letters in the string\n",
    "* The number of digits in the string\n",
    "* The number of whitespace characters in the string"
   ]
  },
  {
   "cell_type": "code",
   "execution_count": 4,
   "metadata": {},
   "outputs": [
    {
     "name": "stdout",
     "output_type": "stream",
     "text": [
      "Number of UpperCase letters : 3\n",
      "Number of LowerCase letters : 15\n",
      "Number of Digits: 0\n",
      "Number of Whitespaces characters: 5\n"
     ]
    }
   ],
   "source": [
    "#Type your code here\n",
    "text = str(input(\"Enter a string: \"))\n",
    "UpperCase_count = 0\n",
    "lowerCase_count = 0\n",
    "Digit_count = 0\n",
    "WhiteSpace_count = 0\n",
    "\n",
    "for char in text:\n",
    "    if char.isupper():\n",
    "        UpperCase_count +=1\n",
    "    elif char.islower():\n",
    "        lowerCase_count+=1\n",
    "    elif char.isdigit():\n",
    "        Digit_count+=1\n",
    "    elif char.isspace():\n",
    "        WhiteSpace_count+=1\n",
    "\n",
    "print(\"Number of UpperCase letters :\" , UpperCase_count)\n",
    "print(\"Number of LowerCase letters :\" , lowerCase_count)\n",
    "print(\"Number of Digits:\" , Digit_count)\n",
    "print(\"Number of Whitespaces characters:\" , WhiteSpace_count)\n"
   ]
  },
  {
   "cell_type": "markdown",
   "metadata": {},
   "source": [
    "3. Write a Python program that accepts a string from user. Your program should create and display a\n",
    "new string where the first and last characters have been exchanged. "
   ]
  },
  {
   "cell_type": "code",
   "execution_count": 7,
   "metadata": {},
   "outputs": [
    {
     "name": "stdout",
     "output_type": "stream",
     "text": [
      "Your Swapped text :  mython PrograP\n"
     ]
    }
   ],
   "source": [
    "#Type your code here\n",
    "text = str(input(\"Enter a string :\"))\n",
    "\n",
    "swapped_text = text[-1] + text[1:-1] + text[0]\n",
    "\n",
    "print(\"Your Swapped text : \" , swapped_text)"
   ]
  },
  {
   "cell_type": "markdown",
   "metadata": {},
   "source": [
    "4) . Write a Python program that accepts a string from user. Your program should create a new string in\n",
    "reverse of first string and display it. "
   ]
  },
  {
   "cell_type": "code",
   "execution_count": 8,
   "metadata": {},
   "outputs": [
    {
     "name": "stdout",
     "output_type": "stream",
     "text": [
      "Your Swapped text :  nohtyp\n"
     ]
    }
   ],
   "source": [
    "#Type your code here\n",
    "text = str(input(\"Enter a string :\"))\n",
    "swapped_text = text[::-1]\n",
    "print(\"Your Swapped text : \" , swapped_text)\n"
   ]
  },
  {
   "cell_type": "markdown",
   "metadata": {},
   "source": [
    "5. Write a Python program that accepts a string from user. Your program should create a new string by\n",
    "shifting one position to left. \n"
   ]
  },
  {
   "cell_type": "code",
   "execution_count": 14,
   "metadata": {},
   "outputs": [
    {
     "name": "stdout",
     "output_type": "stream",
     "text": [
      "answer:  ythonp\n"
     ]
    }
   ],
   "source": [
    "#Type your code here\n",
    "text = str(input(\"Enter a string :\"))\n",
    "swapped_text = text[1:] + text[0]\n",
    "print(\"answer: \" , swapped_text)"
   ]
  },
  {
   "cell_type": "markdown",
   "metadata": {},
   "source": [
    "6. Write a program that asks the user to input his name and print its initials. Assuming that the user\n",
    "always types first name, middle name and last name and does not include any unnecessary spaces. \n"
   ]
  },
  {
   "cell_type": "code",
   "execution_count": 18,
   "metadata": {},
   "outputs": [
    {
     "name": "stdout",
     "output_type": "stream",
     "text": [
      "Initials of the user :  ARS\n"
     ]
    }
   ],
   "source": [
    "#Type your code here\n",
    "First_name = str(input(\"Enter your first name : \"))\n",
    "Middle_name = str(input(\"Enter your middle name : \"))\n",
    "Last_name = str(input(\"Enter your last name : \"))\n",
    "\n",
    "fn = First_name[0:1]\n",
    "mn = Middle_name[0:1]\n",
    "ln = Last_name[0:1]\n",
    "\n",
    "print(\"Initials of the user : \" , fn + mn + ln )"
   ]
  },
  {
   "cell_type": "markdown",
   "metadata": {},
   "source": [
    "7. A palindrome is a string that reads the same backward as forward. For example, the words dad,\n",
    "madam and radar are all palindromes. Write a programs that determines whether the string is a\n",
    "palindrome.\n",
    "Note: do not use reverse() method"
   ]
  },
  {
   "cell_type": "code",
   "execution_count": null,
   "metadata": {},
   "outputs": [],
   "source": [
    "text = input(\"Enter a string: \")\n",
    "\n",
    "reverse_text = text[::-1]\n",
    "\n",
    "if text == reverse_text:\n",
    "    print(\"The string is a palindrome.\")\n",
    "else:\n",
    "    print(\"The string is not a palindrome.\")"
   ]
  },
  {
   "cell_type": "markdown",
   "metadata": {},
   "source": [
    "10) Take two int values from user and print greatest among them."
   ]
  },
  {
   "cell_type": "code",
   "execution_count": 19,
   "metadata": {},
   "outputs": [
    {
     "name": "stdout",
     "output_type": "stream",
     "text": [
      "SHIFT\n",
      "HIFTS\n",
      "IFTSH\n",
      "FTSHI\n",
      "TSHIF\n",
      "SHIFT\n"
     ]
    }
   ],
   "source": [
    "# Type your code here\n",
    "text = \"SHIFT\"\n",
    "\n",
    "for i in range(len(text) + 1):  \n",
    "    print(text) \n",
    "    text = text[1:] + text[0] \n"
   ]
  },
  {
   "cell_type": "markdown",
   "metadata": {},
   "source": [
    "9. Write a program in python that accepts a string to setup a passwords. Your entered password must\n",
    "meet the following requirements:\n",
    "The password must be at least eight characters long.\n",
    "It must contain at least one uppercase letter.\n",
    "It must contain at least one lowercase letter.\n",
    "It must contain at least one numeric digit.\n",
    "Your program should should perform this validation. "
   ]
  },
  {
   "cell_type": "code",
   "execution_count": null,
   "metadata": {},
   "outputs": [],
   "source": [
    "#Type your code here\n",
    "# User se password input lena\n",
    "password = input(\"Enter a password: \")\n",
    "\n",
    "# Conditions check karne ke liye flags\n",
    "has_upper = False\n",
    "has_lower = False\n",
    "has_digit = False\n",
    "\n",
    "# Password length check karna\n",
    "if len(password) >= 8:\n",
    "    # Har character check karna\n",
    "    for char in password:\n",
    "        if char.isupper():\n",
    "            has_upper = True\n",
    "        elif char.islower():\n",
    "            has_lower = True\n",
    "        elif char.isdigit():\n",
    "            has_digit = True\n",
    "\n",
    "    # Sab conditions check karna\n",
    "    if has_upper and has_lower and has_digit:\n",
    "        print(\"Password is valid.\")\n",
    "    else:\n",
    "        print(\"Invalid password! It must contain at least one uppercase letter, one lowercase letter, and one digit.\")\n",
    "else:\n",
    "    print(\"Invalid password! It must be at least 8 characters long.\")\n"
   ]
  }
 ],
 "metadata": {
  "kernelspec": {
   "display_name": "base",
   "language": "python",
   "name": "python3"
  },
  "language_info": {
   "codemirror_mode": {
    "name": "ipython",
    "version": 3
   },
   "file_extension": ".py",
   "mimetype": "text/x-python",
   "name": "python",
   "nbconvert_exporter": "python",
   "pygments_lexer": "ipython3",
   "version": "3.12.7"
  }
 },
 "nbformat": 4,
 "nbformat_minor": 2
}
