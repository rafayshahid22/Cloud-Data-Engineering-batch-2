{
 "cells": [
  {
   "cell_type": "markdown",
   "metadata": {},
   "source": [
    "# Part -1 Python Basics (Variables)"
   ]
  },
  {
   "cell_type": "markdown",
   "metadata": {},
   "source": [
    "1. Print Your Name with your Father name and Date of birth using suitable escape sequence charactor"
   ]
  },
  {
   "cell_type": "code",
   "execution_count": null,
   "metadata": {},
   "outputs": [],
   "source": [
    "# Write your code here\n",
    "name = \"Abdul Rafay\"\n",
    "Father_name = \"Muhammad Shahid\"\n",
    "DOB = \"22-08-2001\" \n",
    "Education = \"BS in Computer Science\"\n",
    "University = \"Bahria University\"\n",
    "Profession = \"Data Engineer\"\n",
    "\n",
    "print(\"------ MY BIO ------\")\n",
    "print(\"Name :\\t\\t\" + name)\n",
    "print(\"Father Name :\\t\" +Father_name)\n",
    "print(\"DOB :\\t\\t\" +DOB)\n",
    "print(\"Education :\\t\" +Education)\n",
    "print(\"University :\\t\" +University)\n",
    "print(\"Profession :\\t\" +Profession)\n"
   ]
  },
  {
   "cell_type": "markdown",
   "metadata": {},
   "source": [
    "2. Write your small bio using variables and print it using print function"
   ]
  },
  {
   "cell_type": "code",
   "execution_count": null,
   "metadata": {},
   "outputs": [],
   "source": [
    "# Write your code here\n",
    "a = 10\n",
    "b = 20\n",
    "\n",
    "print(\"Addition\" , a+b)\n",
    "print(\"Subtraction\" , a-b)\n",
    "print(\"Multiplication\" , a*b)\n",
    "print(\"Division\" , a/b)\n",
    "print(\"Modulus\" , a%b)\n",
    "print(\"Square\" , a**b)\n",
    "\n",
    "a += 3\n",
    "\n",
    "print(\"a += 3:\" , a)\n",
    "a -= 3\n",
    "print(\"a -= 3:\" , a)\n",
    "a *= 3\n",
    "print(\"a *= 3:\" , a)\n",
    "a /= 3\n",
    "print(\"a /= 3:\" , a)\n",
    "a %= 3\n",
    "print(\"a %= 3:\" , a)\n",
    "a **= 3\n",
    "print(\"a **= 3:\" , a)\n",
    "\n",
    "print(\"a == b:\", a == b)  \n",
    "print(\"a != b:\", a != b)  \n",
    "print(\"a > b:\", a > b)    \n",
    "print(\"a < b:\", a < b)    \n",
    "print(\"a >= b:\", a >= b)  \n",
    "print(\"a <= b:\", a <= b) \n"
   ]
  },
  {
   "cell_type": "markdown",
   "metadata": {},
   "source": [
    "3. Write a program in which use all the operators we can use in Python"
   ]
  },
  {
   "cell_type": "code",
   "execution_count": null,
   "metadata": {},
   "outputs": [],
   "source": [
    "# Write your code here\n",
    "English_marks = 88\n",
    "Maths_marks = 92\n",
    "Islamiat_marks = 90\n",
    "\n",
    "total_marks = 300\n",
    "\n",
    "Percentage = ((English_marks + Maths_marks + Islamiat_marks) / total_marks) *100\n",
    "print(Percentage)"
   ]
  },
  {
   "cell_type": "markdown",
   "metadata": {},
   "source": [
    "4. Completes the following steps of small task:\n",
    "    - Mention Marks of English , Islamiat and Maths out of 100 in 3 different variables\n",
    "    - Mention Variable of Total Marks and assign 300 to it\n",
    "    - Calculate Percentage"
   ]
  },
  {
   "cell_type": "code",
   "execution_count": 15,
   "metadata": {},
   "outputs": [
    {
     "name": "stdout",
     "output_type": "stream",
     "text": [
      "90.0\n"
     ]
    }
   ],
   "source": [
    "# Write your code here\n",
    "English_marks = 88\n",
    "Maths_marks = 92\n",
    "Islamiat_marks = 90\n",
    "\n",
    "total_marks = 300\n",
    "\n",
    "Percentage = ((English_marks + Maths_marks + Islamiat_marks) / total_marks) *100\n",
    "print(Percentage)\n"
   ]
  },
  {
   "cell_type": "markdown",
   "metadata": {},
   "source": [
    "# Part -2 Python Basics (Conditional Statements)"
   ]
  },
  {
   "cell_type": "markdown",
   "metadata": {},
   "source": [
    "1) A company decided to give bonus of 5% to employee if his/her year of service is more than 5 years.\n",
    "Ask user for their salary and year of service and print the net bonus amount."
   ]
  },
  {
   "cell_type": "code",
   "execution_count": 14,
   "metadata": {},
   "outputs": [
    {
     "name": "stdout",
     "output_type": "stream",
     "text": [
      "275.0\n"
     ]
    }
   ],
   "source": [
    "#Type your code here\n",
    "salary = int(input(\"Write your salary\"))\n",
    "Year_of_service = int(input(\"Write your years of service\"))\n",
    "\n",
    "if (Year_of_service >= 5):\n",
    "    bonus = salary * 0.05\n",
    "    print(bonus)\n",
    "else:\n",
    "    print(\"Sorry, you are not eligible for a bonus.\")\n"
   ]
  },
  {
   "cell_type": "markdown",
   "metadata": {},
   "source": [
    "\n",
    "2) Write a program to check whether a person is eligible for voting or not. (accept age from user) if age is greater than 17 eligible otherwise not eligible"
   ]
  },
  {
   "cell_type": "code",
   "execution_count": 16,
   "metadata": {},
   "outputs": [
    {
     "name": "stdout",
     "output_type": "stream",
     "text": [
      "You are not eligible\n"
     ]
    }
   ],
   "source": [
    "#Type your code here\n",
    "age = int(input(\"Enter your age\"))\n",
    "if(age > 17):\n",
    "    print(\"You are eligible for voting\")\n",
    "else:\n",
    "    print(\"You are not eligible\")"
   ]
  },
  {
   "cell_type": "markdown",
   "metadata": {},
   "source": [
    "\n",
    "3) Write a program to check whether a number entered by user is even or odd."
   ]
  },
  {
   "cell_type": "code",
   "execution_count": 12,
   "metadata": {},
   "outputs": [
    {
     "name": "stdout",
     "output_type": "stream",
     "text": [
      "Odd Number\n"
     ]
    }
   ],
   "source": [
    "#Type your code here\n",
    "number = int(input(\"Enter a number of your choice\"))\n",
    "if (number % 2 == 0 ):\n",
    "    print(\"Even Number\")\n",
    "else:\n",
    "    print(\"Odd Number\")"
   ]
  },
  {
   "cell_type": "markdown",
   "metadata": {},
   "source": [
    "4) Write a program to check whether a number is divisible by 7 or not.\n",
    "Show Answer"
   ]
  },
  {
   "cell_type": "code",
   "execution_count": 17,
   "metadata": {},
   "outputs": [
    {
     "name": "stdout",
     "output_type": "stream",
     "text": [
      "It is not divisible by 7\n"
     ]
    }
   ],
   "source": [
    "#Type your code here\n",
    "number = 88\n",
    "if(number % 7 == 0 ):\n",
    "    print(\"It is divisible by 7\")\n",
    "else:\n",
    "    print(\"It is not divisible by 7\")"
   ]
  },
  {
   "cell_type": "markdown",
   "metadata": {},
   "source": [
    "5) Write a program to display \n",
    "\"Hello\" if a number entered by user is a multiple of five , otherwise print \"Bye\"."
   ]
  },
  {
   "cell_type": "code",
   "execution_count": 19,
   "metadata": {},
   "outputs": [
    {
     "name": "stdout",
     "output_type": "stream",
     "text": [
      "Bye\n"
     ]
    }
   ],
   "source": [
    "#Type your code here\n",
    "number = int(input(\"Enter a number multiple by 5\"))\n",
    "if number % 5 == 0:\n",
    "    print(\"Hello\")\n",
    "else:\n",
    "    print(\"Bye\")"
   ]
  },
  {
   "cell_type": "markdown",
   "metadata": {},
   "source": [
    "7) Write a program to display the last digit of a number.\n"
   ]
  },
  {
   "cell_type": "code",
   "execution_count": null,
   "metadata": {},
   "outputs": [
    {
     "name": "stdout",
     "output_type": "stream",
     "text": [
      "1\n"
     ]
    }
   ],
   "source": [
    "#Type your code here\n",
    "number = \"03148121700\"\n",
    "print(number[10:11])"
   ]
  },
  {
   "cell_type": "markdown",
   "metadata": {},
   "source": [
    "9) Take values of length and breadth of a rectangle from user and print if it is square or rectangle."
   ]
  },
  {
   "cell_type": "code",
   "execution_count": 24,
   "metadata": {},
   "outputs": [
    {
     "name": "stdout",
     "output_type": "stream",
     "text": [
      "It is a Rectangle.\n"
     ]
    }
   ],
   "source": [
    "#Type your code here \n",
    "length = float(input(\"Enter the length: \"))  \n",
    "breadth = float(input(\"Enter the breadth: \"))  \n",
    "\n",
    "if length == breadth:\n",
    "    print(\"It is a Square.\")\n",
    "else:\n",
    "    print(\"It is a Rectangle.\")\n"
   ]
  },
  {
   "cell_type": "markdown",
   "metadata": {},
   "source": [
    "10) Take two int values from user and print greatest among them."
   ]
  },
  {
   "cell_type": "code",
   "execution_count": 28,
   "metadata": {},
   "outputs": [
    {
     "name": "stdout",
     "output_type": "stream",
     "text": [
      "number 2 is greater which is 11\n"
     ]
    }
   ],
   "source": [
    "# Type your code here\n",
    "num1 = int(input(\"Enter first number\"))\n",
    "num2 = int(input(\"Enter second number\"))\n",
    "\n",
    "if (num1 > num2):\n",
    "    print(\"number 1 is greater which is \" , num1)\n",
    "else:\n",
    "    print(\"number 2 is greater which is\" ,num2)"
   ]
  },
  {
   "cell_type": "markdown",
   "metadata": {},
   "source": [
    "11) A shop will give discount of 10% if the cost of purchased quantity is more than 1000.\n",
    "Ask user for quantity\n",
    "Suppose, one unit will cost 100.\n",
    "Judge and print total cost for user."
   ]
  },
  {
   "cell_type": "code",
   "execution_count": 33,
   "metadata": {},
   "outputs": [
    {
     "name": "stdout",
     "output_type": "stream",
     "text": [
      "Total cost after discount 1350.0\n"
     ]
    }
   ],
   "source": [
    "#Type your code here\n",
    "price = 100\n",
    "quantity = int(input(\"Enter quantity\"))\n",
    "cost = quantity * price\n",
    "if(cost >= 1000):\n",
    "    discount = cost * 0.10  \n",
    "    cost -= discount\n",
    "    print(\"Total cost after discount\", cost)  \n",
    "else:\n",
    "    print(\"You are not eligible for discount\")\n",
    "    "
   ]
  },
  {
   "cell_type": "markdown",
   "metadata": {},
   "source": [
    "12) A school has following rules for grading system:\n",
    "\n",
    "a. Below 25 - F\n",
    "\n",
    "b. 25 to 45 - E\n",
    "\n",
    "c. 45 to 50 - D\n",
    "\n",
    "d. 50 to 60 - C\n",
    "\n",
    "e. 60 to 80 - B\n",
    "\n",
    "f. Above 80 - A\n",
    "\n",
    "Ask user to enter marks and print the corresponding grade."
   ]
  },
  {
   "cell_type": "code",
   "execution_count": 35,
   "metadata": {},
   "outputs": [
    {
     "name": "stdout",
     "output_type": "stream",
     "text": [
      "Grade: E\n"
     ]
    }
   ],
   "source": [
    "#Type your code here\n",
    "marks = int(input(\"Enter your marks: \"))  \n",
    "\n",
    "if marks < 25:\n",
    "    print(\"Grade: F\")\n",
    "elif 25 <= marks < 45:\n",
    "    print(\"Grade: E\")\n",
    "elif 45 <= marks < 50:\n",
    "    print(\"Grade: D\")\n",
    "elif 50 <= marks < 60:\n",
    "    print(\"Grade: C\")\n",
    "elif 60 <= marks < 80:\n",
    "    print(\"Grade: B\")\n",
    "else:\n",
    "    print(\"Grade: A\")\n"
   ]
  },
  {
   "cell_type": "markdown",
   "metadata": {},
   "source": [
    "14)A student will not be allowed to sit in exam if his/her attendence is less than 75%.\n",
    "\n",
    "Take following input from user\n",
    "\n",
    "- Number of classes held\n",
    "\n",
    "- Number of classes attended.\n",
    "\n",
    "And print\n",
    "\n",
    "- percentage of class attended\n",
    "\n",
    "- Is student is allowed to sit in exam or not.\n"
   ]
  },
  {
   "cell_type": "code",
   "execution_count": 37,
   "metadata": {},
   "outputs": [
    {
     "name": "stdout",
     "output_type": "stream",
     "text": [
      "You are not allowed to sit in exam\n"
     ]
    }
   ],
   "source": [
    "#Type your code here\n",
    "Classes_held = int(input(\"Enter the number of classes held\"))\n",
    "Classes_attend = int(input(\"Enter the number of classes you have attended\"))\n",
    "\n",
    "percentage = (Classes_attend / Classes_held) * 100\n",
    "\n",
    "if (percentage > 75):\n",
    "    print(percentage , \"you are allowed to sit in exam\")\n",
    "else:\n",
    "    print(\"You are not allowed to sit in exam\")\n",
    "\n"
   ]
  },
  {
   "cell_type": "markdown",
   "metadata": {},
   "source": [
    "15) Modify the above question to allow student to sit if he/she has medical cause. Ask user if he/she has medical cause or not ( 'Y' or 'N' ) and print accordingly."
   ]
  },
  {
   "cell_type": "code",
   "execution_count": 49,
   "metadata": {},
   "outputs": [
    {
     "name": "stdout",
     "output_type": "stream",
     "text": [
      "Your attendance is 60.00%, but you have a medical cause. You are allowed to sit in the exam.\n"
     ]
    }
   ],
   "source": [
    "#Type your code here\n",
    "\n",
    "Classes_held = int(input(\"Enter the number of classes held: \"))\n",
    "Classes_attend = int(input(\"Enter the number of classes you have attended: \"))\n",
    "\n",
    "\n",
    "percentage = (Classes_attend / Classes_held) * 100\n",
    "\n",
    "if percentage >= 75:\n",
    "    print(f\"Your attendance is {percentage:.2f}%. You are allowed to sit in the exam.\")\n",
    "else:\n",
    "    medical_cause = input(\"Do you have a medical cause? (Y/N): \")\n",
    "    \n",
    "    if medical_cause == 'Y':\n",
    "        print(f\"Your attendance is {percentage:.2f}%, but you have a medical cause. You are allowed to sit in the exam.\")\n",
    "    else:\n",
    "        print(f\"Your attendance is {percentage:.2f}%. You are NOT allowed to sit in the exam.\")\n",
    "\n"
   ]
  },
  {
   "cell_type": "markdown",
   "metadata": {},
   "source": [
    "16) Write a program to check if a year is leap year or not.\n",
    "\n",
    "If a year is divisible by 4 then it is leap year but if the year is century year like 2000, 1900, 2100 then it must be divisible by 400."
   ]
  },
  {
   "cell_type": "code",
   "execution_count": 50,
   "metadata": {},
   "outputs": [
    {
     "name": "stdout",
     "output_type": "stream",
     "text": [
      "Its not a leap year\n"
     ]
    }
   ],
   "source": [
    "#Type your code here\n",
    "Leap_year = int(input(\"Enter a year to check if it leap year or not\"))\n",
    "if (Leap_year % 4 == 0 and Leap_year % 100 != 0) or (Leap_year % 400 == 0):\n",
    "    print(\"It is a leap year\")\n",
    "else:\n",
    "    print(\"Its not a leap year\")"
   ]
  },
  {
   "cell_type": "markdown",
   "metadata": {},
   "source": [
    "17) Ask user to enter age, gender ( M or F ), marital status ( Y or N ) and then using following rules print their place of service.\n",
    "\n",
    "if employee is female, then she will work only in urban areas.\n",
    "\n",
    "if employee is a male and age is in between 20 to 40 then he may work in anywhere\n",
    "\n",
    "if employee is male and age is in between 40 t0 60 then he will work in urban areas only.\n",
    "\n",
    "And any other input of age should print \"ERROR\""
   ]
  },
  {
   "cell_type": "code",
   "execution_count": null,
   "metadata": {},
   "outputs": [
    {
     "name": "stdout",
     "output_type": "stream",
     "text": [
      "You may work anywhere.\n"
     ]
    }
   ],
   "source": [
    "#Type your code here\n",
    "age = int(input(\"Enter your age: \"))\n",
    "gender = input(\"Enter your gender (M/F): \")\n",
    "# marital_status = input(\"Enter your marital status (Y/N): \")\n",
    "\n",
    "if gender == \"F\":\n",
    "    print(\"You will work only in urban areas.\")\n",
    "elif gender == \"M\":\n",
    "    if 20 <= age <= 40:\n",
    "        print(\"You may work anywhere.\")\n",
    "    elif 40 < age <= 60:\n",
    "        print(\"You will work only in urban areas.\")\n",
    "    else:\n",
    "        print(\"ERROR\")\n",
    "else:\n",
    "    print(\"ERROR\") "
   ]
  },
  {
   "cell_type": "markdown",
   "metadata": {},
   "source": [
    "6) Write a program to calculate the electricity bill (accept number of unit from user) according to the following criteria :\n",
    "     Unit                                                     Price  \n",
    "uptp 100 units                                             no charge\n",
    "Next 200 units                                              Rs 5 per unit\n",
    "After 200 units                                             Rs 10 per unit\n",
    "(For example if input unit is 350 than total bill amount is Rs.3500\n",
    "(For example if input unit is 97 than total bill amount is Rs.0\n",
    "(For example if input unit is 150 than total bill amount is Rs.750"
   ]
  },
  {
   "cell_type": "markdown",
   "metadata": {},
   "source": []
  },
  {
   "cell_type": "code",
   "execution_count": 42,
   "metadata": {},
   "outputs": [
    {
     "name": "stdout",
     "output_type": "stream",
     "text": [
      "You will charge rs.5 per unit 750\n"
     ]
    }
   ],
   "source": [
    "units = int(input(\"Enter the number of units consumed: \"))\n",
    "\n",
    "bill = 0\n",
    "\n",
    "if units <= 100:\n",
    "    print(\"No charge\")\n",
    "elif units > 100 and units <= 200:\n",
    "    bill = units * 5  \n",
    "    print(\"You will charge rs.5 per unit\" , bill)\n",
    "elif units > 200:\n",
    "    bill = units * 10 \n",
    "    print(\"You will charge rs.10 per unit\" , bill)\n",
    "else:\n",
    "    print(\"Enter the correct unit details\")"
   ]
  },
  {
   "cell_type": "markdown",
   "metadata": {},
   "source": [
    "13) Take input of age of 3 people by user and determine oldest and youngest among them."
   ]
  },
  {
   "cell_type": "code",
   "execution_count": 44,
   "metadata": {},
   "outputs": [
    {
     "name": "stdout",
     "output_type": "stream",
     "text": [
      "The oldest person is 44 years old.\n",
      "The youngest person is 22 years old.\n"
     ]
    }
   ],
   "source": [
    "#Type your code here\n",
    "age1 = int(input(\"Enter the age of first person: \"))\n",
    "age2 = int(input(\"Enter the age of second person: \"))\n",
    "age3 = int(input(\"Enter the age of third person: \"))\n",
    "\n",
    "if age1 >= age2 and age1 >= age3:\n",
    "    oldest = age1\n",
    "elif age2 >= age1 and age2 >= age3:\n",
    "    oldest = age2\n",
    "else:\n",
    "    oldest = age3\n",
    "\n",
    "\n",
    "if age1 <= age2 and age1 <= age3:\n",
    "    youngest = age1\n",
    "elif age2 <= age1 and age2 <= age3:\n",
    "    youngest = age2\n",
    "else:\n",
    "    youngest = age3\n",
    "\n",
    "print(\"The oldest person is\", oldest, \"years old.\")\n",
    "print(\"The youngest person is\", youngest, \"years old.\")\n",
    "\n",
    "\n"
   ]
  }
 ],
 "metadata": {
  "kernelspec": {
   "display_name": "base",
   "language": "python",
   "name": "python3"
  },
  "language_info": {
   "codemirror_mode": {
    "name": "ipython",
    "version": 3
   },
   "file_extension": ".py",
   "mimetype": "text/x-python",
   "name": "python",
   "nbconvert_exporter": "python",
   "pygments_lexer": "ipython3",
   "version": "3.12.7"
  }
 },
 "nbformat": 4,
 "nbformat_minor": 4
}
